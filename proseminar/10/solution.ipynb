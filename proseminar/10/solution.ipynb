{
 "cells": [
  {
   "cell_type": "markdown",
   "metadata": {},
   "source": [
    "# 09"
   ]
  },
  {
   "cell_type": "code",
   "execution_count": 2,
   "metadata": {},
   "outputs": [],
   "source": [
    "import csv\n",
    "import matplotlib.pyplot as plt\n",
    "import numpy as np\n",
    "%matplotlib inline"
   ]
  },
  {
   "cell_type": "code",
   "execution_count": 6,
   "metadata": {},
   "outputs": [
    {
     "name": "stdout",
     "output_type": "stream",
     "text": [
      "[[[1, 8, 0.000260103], [2, 8, 0.000271015], [3, 8, 0.000360671], [4, 8, 0.000382657], [5, 8, 0.000421947], [6, 8, 0.000431312], [7, 8, 0.00318573], [8, 8, 0.00308364]], [[1, 12, 0.177365], [2, 12, 0.0899628], [3, 12, 0.0660729], [4, 12, 0.0496174], [5, 12, 0.0496588], [6, 12, 0.0350701], [7, 12, 0.0393186], [8, 12, 0.0443249]], [[1, 14, 7.51242], [2, 14, 3.80712], [3, 14, 3.02275], [4, 14, 2.43367], [5, 14, 1.86079], [6, 14, 1.79074], [7, 14, 1.2937], [8, 14, 1.29151]], [[1, 16, 397.794], [2, 16, 200.937], [3, 16, 144.168], [4, 16, 112.649], [5, 16, 90.7896], [6, 16, 87.4823], [7, 16, 81.6995], [8, 16, 59.8587]]]\n"
     ]
    }
   ],
   "source": [
    "def getDataFor(path):\n",
    "    with open(path) as csv_file:\n",
    "        csv_reader = csv.reader(csv_file, delimiter=';')\n",
    "        return [[int(row[0]),int(row[1]), float(row[2])] for row in csv_reader]\n",
    "\n",
    "def chunk(it, size):\n",
    "    it = iter(it)\n",
    "    return list(iter(lambda: tuple(islice(it, size)), ()))\n",
    "\n",
    "\n",
    "def sortData(list):\n",
    "    a = []\n",
    "    b = []\n",
    "    c = []\n",
    "    d = []\n",
    "    for i in range(0,len(list),4):\n",
    "        a = [list[i]] + a\n",
    "        b = [list[i+1]] + b\n",
    "        c = [list[i+2]] + c\n",
    "        d = [list[i+3]] + d\n",
    "    return [a,b,c,d]\n",
    "\n",
    "\n",
    "#Vary the number of steps with const bodies=100\n",
    "#Vary the number of bodies with const number of steps=10000\n",
    "data = getDataFor('output_nqueen.dat')\n",
    "data = sortData(data)\n"
   ]
  },
  {
   "cell_type": "markdown",
   "metadata": {},
   "source": [
    "### Speedup\n",
    "- absolut: reference ts is the fastest sequential version\n",
    "- relativ: reference ts is the fastest parallel version run sequentially\n",
    "$$ speedup_p = \\frac{t_s}{t_p} $$\n",
    "\n",
    "### Efficency\n",
    "$$ efficency = \\frac{speedup_p}{p} $$"
   ]
  },
  {
   "cell_type": "code",
   "execution_count": 7,
   "metadata": {},
   "outputs": [],
   "source": [
    "def plot2(ax1, data, title = \"\", typeOfGrahp=\"\"):\n",
    "    ax2 = ax1.twinx()\n",
    "    for problemSize in range(0,4):\n",
    "\n",
    "        cores = [ i[0] for i in data[problemSize] ]\n",
    "        reference = data[problemSize][0][2]\n",
    "        speedup = [ reference/i[2] for i in data[problemSize] ]\n",
    "        efficency = [ speedup[i] / cores[i] for i in range(0,len(cores)) ]\n",
    "\n",
    "        ax1.set_xlabel('number of processors')\n",
    "        ax1.set_ylabel('Speedup')\n",
    "        ax1.set_title(title)\n",
    "        ax1.plot(cores, speedup, label=\"Speedup {}\".format(data[problemSize][1][1]) +\" \"+ typeOfGrahp , marker='o',  linewidth=2)\n",
    "        ax2.set_ylabel(\"Efficency\")\n",
    "        ax2.plot( cores, efficency, label=\"Efficency {}\".format(data[problemSize][1][1]) +\" \"+ typeOfGrahp , marker='x', linewidth=2)\n",
    "        ax1.legend(loc='lower left')\n",
    "        ax2.legend()"
   ]
  },
  {
   "cell_type": "markdown",
   "execution_count": null,
   "metadata": {},
   "outputs": [],
   "source": [
    "## Benchmark your problem for several problem sizes, numbers of threads and numbers of nodes. \n",
    "## Include experiments with all nodes/cores. What can you observe?"
   ]
  },
  {
   "cell_type": "code",
   "execution_count": 4,
   "metadata": {},
   "outputs": [],
   "source": [
    "#plt.rcParams[\"figure.figsize\"] = (14,8)\n",
    "#fig, ax1 = plt.subplots(1,1)\n",
    "#plot2(ax1, data, \"n-Queen Problem\", \"Field Size\")\n",
    "#plt.show() "
   ]
  },
  {
   "cell_type": "markdown",
   "execution_count": 3,
   "metadata": {},
   "outputs": [
    {
     "ename": "SyntaxError",
     "evalue": "invalid syntax (<ipython-input-3-b6ef596ee471>, line 2)",
     "output_type": "error",
     "traceback": [
      "\u001b[0;36m  File \u001b[0;32m\"<ipython-input-3-b6ef596ee471>\"\u001b[0;36m, line \u001b[0;32m2\u001b[0m\n\u001b[0;31m    - a) no optimization\u001b[0m\n\u001b[0m       ^\u001b[0m\n\u001b[0;31mSyntaxError\u001b[0m\u001b[0;31m:\u001b[0m invalid syntax\n"
     ]
    }
   ],
   "source": [
    "### For at least one larger problem size / number of threads / number of nodes combination, benchmark and compare all four cases of \n",
    "- a) no optimization \n",
    "- b) MPI optimization only \n",
    "- c) OpenMP optimization only \n",
    "- d) both. What can you observe?"
   ]
  },
  {
   "cell_type": "code",
   "execution_count": null,
   "metadata": {},
   "outputs": [],
   "source": []
  },
  {
   "cell_type": "markdown",
   "metadata": {},
   "source": [
    "Note: \n",
    "- All tests are done with MPI Version 3.1.1\n",
    "- Time mesurements are done with the MPI function MPI_Wtime()"
   ]
  },
  {
   "cell_type": "code",
   "execution_count": null,
   "metadata": {},
   "outputs": [],
   "source": []
  }
 ],
 "metadata": {
  "kernelspec": {
   "display_name": "Python 3",
   "language": "python",
   "name": "python3"
  },
  "language_info": {
   "codemirror_mode": {
    "name": "ipython",
    "version": 3
   },
   "file_extension": ".py",
   "mimetype": "text/x-python",
   "name": "python",
   "nbconvert_exporter": "python",
   "pygments_lexer": "ipython3",
   "version": "3.7.5"
  }
 },
 "nbformat": 4,
 "nbformat_minor": 2
}